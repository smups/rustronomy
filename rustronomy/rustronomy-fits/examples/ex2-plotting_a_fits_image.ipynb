{
 "cells": [
  {
   "cell_type": "markdown",
   "metadata": {},
   "source": [
    "![rustronomy_dark_banner](https://github.com/smups/rustronomy/blob/main/logos/Rustronomy-fits_github_banner_dark.png?raw=true#gh-light-mode-only)\n",
    "# Example 2 - plotting a FITS image\n",
    ">_Note: this example assumes you have worked through example #1_"
   ]
  },
  {
   "cell_type": "code",
   "execution_count": 9,
   "metadata": {},
   "outputs": [],
   "source": [
    ":dep rustronomy-fits = {git = \"https://github.com/smups/rustronomy\"}\n",
    ":dep ndarray = {ndarray = 0.15, features = [\"blas\", \"approx\", \"std\"]}\n",
    ":dep plotters = {git = \"https://github.com/38/plotters\", default_features = true, features = [\"evcxr\", \"all_series\"]}\n",
    ":dep dirs = {dirs = 4}\n",
    ":dep num-traits = {num-traits = 0.2}"
   ]
  },
  {
   "cell_type": "code",
   "execution_count": 10,
   "metadata": {},
   "outputs": [],
   "source": [
    "use std::{\n",
    "    fs,\n",
    "    path,\n",
    "    error::Error\n",
    "};\n",
    "use rustronomy_fits as rsf;\n",
    "use ndarray as nd;\n",
    "use dirs;\n",
    "use plotters::prelude::*;\n",
    "use num_traits::{Float, Num};"
   ]
  },
  {
   "cell_type": "markdown",
   "metadata": {},
   "source": [
    "### 2.1 - Reading the FITS file\n",
    "First, let's read the Image in the same manner we did last time:"
   ]
  },
  {
   "cell_type": "code",
   "execution_count": 11,
   "metadata": {},
   "outputs": [],
   "source": [
    "//We'll be using one of the Hubble FITS files from the resources folder\n",
    "let mut path = dirs::home_dir().unwrap();\n",
    "path.push(\"Desktop/code/rustronomy/rustronomy/rustronomy-fits/resources/Hubble_NICMOS.fits\");\n",
    "\n",
    "//get the data from the file\n",
    "let mut fits = rsf::Fits::open(&path)?;\n",
    "let (header, data) = fits.remove_hdu(1).unwrap().to_parts();\n",
    "let array = match data.unwrap() {\n",
    "    rsf::Extension::Image(img) => img.as_owned_f32_array()?,\n",
    "    _ => panic!()\n",
    "};"
   ]
  },
  {
   "cell_type": "markdown",
   "metadata": {},
   "source": [
    "If we want to turn this image into a grey-scale plot, we have to know the range\n",
    "of the parameters inside the image first. For starters, let's convert the array\n",
    "we found to a 2D array\n",
    "\n",
    "_Comment: by default, rsf returns a dynamically sized ndarray (shape = IxDyn), which is\n",
    "computationally expensive. Since we know the shape of the array (2D), we might\n",
    "as well convert it to a statically sized 2D array_"
   ]
  },
  {
   "cell_type": "code",
   "execution_count": 12,
   "metadata": {},
   "outputs": [],
   "source": [
    "let img = array.into_dimensionality::<nd::Ix2>()?;"
   ]
  },
  {
   "cell_type": "markdown",
   "metadata": {},
   "source": [
    "### 2.2 - Creating a greyscale using plotters"
   ]
  },
  {
   "cell_type": "markdown",
   "metadata": {},
   "source": [
    "Next we have to obtain the largest and smallest values in the array. Since `f64`\n",
    "does not implement the `Ordered` trait, we can't use the built-in `max` and `min`\n",
    "funcs. Luckily, rust is fast, so just looping over the iterators is fine too!"
   ]
  },
  {
   "cell_type": "code",
   "execution_count": 13,
   "metadata": {},
   "outputs": [
    {
     "name": "stdout",
     "output_type": "stream",
     "text": [
      "max:2730.8992, min:-1.0890907\n"
     ]
    }
   ],
   "source": [
    "//Calculate max and min values\n",
    "let mut max: f32 = f32::MIN;\n",
    "for val in img.iter() { if val > &max {max = *val} }\n",
    "\n",
    "let mut min: f32 = f32::MAX;\n",
    "for val in img.iter() { if val < &min {min = *val} }\n",
    "println!(\"max:{max}, min:{min}\");"
   ]
  },
  {
   "cell_type": "markdown",
   "metadata": {},
   "source": [
    "Most of the time when viewing astronomical images it is advisable to map the raw\n",
    "counts to a logarithmic scale, since our eyes don't perceive brightness differences\n",
    "linearly, but logarithmically. Hence, we'll be grey-scaling our images as:\n",
    "$$\n",
    "    B(c)\\in[0,255], \\quad B(c)=255\\left(\\frac{\\ln{c}-\\ln{c_{min}}}{\\ln{c_{max}}}\\right)\n",
    "    =255\\left[\\ln{\\left(\\frac{c}{c_{min}}\\right)}\\middle/\\ln{c_{max}}\\right]\n",
    "$$\n",
    "Ndarray provides us with an `indexed_iter()` method on the 2D array which we may\n",
    "handily use to convert the 2D ndarray into pixels with a little function:"
   ]
  },
  {
   "cell_type": "code",
   "execution_count": 14,
   "metadata": {},
   "outputs": [],
   "source": [
    "fn grey_scale(count: f32, min: f32, log_max: f32)\n",
    "    -> Result<RGBColor, Box<dyn Error>>\n",
    "{\n",
    "    let col: u8 =\n",
    "    (//This should be within the 0-255 range!\n",
    "        255. * (count/min).abs().log10() / log_max\n",
    "    ) as u8;\n",
    "\n",
    "    Ok(RGBColor(col, col, col))\n",
    "}"
   ]
  },
  {
   "cell_type": "markdown",
   "metadata": {},
   "source": [
    "### 2.3 - Plotting the Image\n"
   ]
  },
  {
   "cell_type": "code",
   "execution_count": 15,
   "metadata": {},
   "outputs": [
    {
     "data": {
      "text/plain": [
       "()"
      ]
     },
     "execution_count": 15,
     "metadata": {},
     "output_type": "execute_result"
    }
   ],
   "source": [
    "//For each pixel in the image we want one pixel\n",
    "let x_size = img.shape()[0];\n",
    "let y_size = img.shape()[1];\n",
    "\n",
    "{ //cursed extra curly braces\n",
    "let root = BitMapBackend::new(\"ex2_image.png\", (x_size as u32, y_size as u32)).into_drawing_area();\n",
    "root.fill(&RED)?;\n",
    "\n",
    "//create base chart with the size of the image\n",
    "let mut chart = ChartBuilder::on(&root).build_cartesian_2d(0..x_size, 0..y_size)?;\n",
    "\n",
    "//Remove the mesh from the chart\n",
    "chart.configure_mesh()\n",
    "    .disable_x_mesh()\n",
    "    .disable_y_mesh()\n",
    "    .draw()?;\n",
    "\n",
    "let plotting_area = chart.plotting_area();\n",
    "\n",
    "for ((x,y), count) in img.indexed_iter() {\n",
    "    plotting_area.draw_pixel((x, y), &grey_scale(*count, min, max.log10())?)?\n",
    "}\n",
    "}"
   ]
  },
  {
   "cell_type": "markdown",
   "metadata": {},
   "source": [
    "Output:\n",
    "\n",
    "![](ex2_image.png)"
   ]
  }
 ],
 "metadata": {
  "kernelspec": {
   "display_name": "Rust",
   "language": "rust",
   "name": "rust"
  },
  "language_info": {
   "codemirror_mode": "rust",
   "file_extension": ".rs",
   "mimetype": "text/rust",
   "name": "Rust",
   "pygment_lexer": "rust",
   "version": ""
  },
  "orig_nbformat": 4
 },
 "nbformat": 4,
 "nbformat_minor": 2
}
