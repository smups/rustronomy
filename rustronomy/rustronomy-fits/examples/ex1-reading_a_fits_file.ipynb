{
 "cells": [
  {
   "cell_type": "markdown",
   "metadata": {},
   "source": [
    "![rustronomy_dark_banner](https://github.com/smups/rustronomy/blob/main/logos/Rustronomy-fits_github_banner_dark.png?raw=true#gh-light-mode-only)\n",
    "![rustronomy_light_banner](https://github.com/smups/rustronomy/blob/main/logos/Rustronomy-fits_github_banner_light.png#gh-dark-mode-only)\n",
    "# Example 1 - reading a FITS file"
   ]
  },
  {
   "cell_type": "markdown",
   "metadata": {},
   "source": [
    "Let's start by importing some dependancies:"
   ]
  },
  {
   "cell_type": "code",
   "execution_count": 37,
   "metadata": {},
   "outputs": [],
   "source": [
    ":dep rustronomy-fits = {git = \"https://github.com/smups/rustronomy\"}\n",
    ":dep ndarray = {ndarray = 0.15, features = [\"blas\", \"approx\", \"std\"]}\n",
    ":dep dirs = {dirs = 4}"
   ]
  },
  {
   "cell_type": "code",
   "execution_count": 38,
   "metadata": {},
   "outputs": [],
   "source": [
    "use rustronomy_fits as rsf;\n",
    "use ndarray as nd;\n",
    "use dirs;"
   ]
  },
  {
   "cell_type": "markdown",
   "metadata": {},
   "source": [
    "### 1.1 - displaying the structure of a FITS file\n",
    "When using Rustronomy-fits, it's often important to know what kind of data the FITS file contains _before_ you try to access any of the data contained within. This has to do with Rust being statically typed: you cant just ask for \"data contained within HDU0\" without knowing the type of the data.\n",
    "\n",
    "Luckily, we can simply print the structure of a FITS file.\n",
    "\n",
    "_Note: in this example we are using the example FITS file provided in the example folder on github_"
   ]
  },
  {
   "cell_type": "code",
   "execution_count": 39,
   "metadata": {},
   "outputs": [
    {
     "name": "stdout",
     "output_type": "stream",
     "text": [
      " [1339.9511313479616, 1392.3042875600454, 1337.1400907286466, 1431.4846761295173, 1381.0993015542517, ..., 1377.0438753569972, 1411.6077990517654, 1389.1330903393477, 1385.7060764835862, 1389.032159743393]]\n",
      ">=================================<|FITS File|>=================================\n",
      ">Total File size in FITS blocks: 2678\n",
      ">Number of Header-Data-Units: 2\n",
      ">Contents:\n",
      ">-------------------------------------------------------------------------------\n",
      ">  [HDU #0]\n",
      ">  Total HDU size in FITS blocks: 1\n",
      ">    [Header] - size: 1, #records: 4\n",
      ">    [Data] - (NO_DATA)\n",
      ">-------------------------------------------------------------------------------\n",
      ">  [HDU #1]\n",
      ">  Total HDU size in FITS blocks: 2677\n",
      ">    [Header] - size: 2, #records: 42\n",
      ">    [Data] - (IMAGE) datatype: f64, shape: (956,1007), size: 2675\n",
      ">===============================================================================\n",
      "\n",
      "\n"
     ]
    }
   ],
   "source": [
    "use std::fs;\n",
    "use std::path;\n",
    "\n",
    "//We'll be using one of the FITS files from the tests folder\n",
    "let mut path = dirs::home_dir().unwrap();\n",
    "path.push(\"Documenten/rustronomy_project/rustronomy/rustronomy-fits/resources/tests/real_assortment/master_science0.fits\");\n",
    "\n",
    "//open and print the file (we need the mut later on)\n",
    "let mut fits = rsf::fits::Fits::open(&path)?;\n",
    "println!(\"{fits}\");"
   ]
  },
  {
   "cell_type": "markdown",
   "metadata": {},
   "source": [
    "from the print-out we can see that we have a `f64` Image in the second header-data-unit. We can get more information about the Image by printing its header:"
   ]
  },
  {
   "cell_type": "code",
   "execution_count": 40,
   "metadata": {},
   "outputs": [
    {
     "name": "stdout",
     "output_type": "stream",
     "text": [
      ">================================<|FITS Header|>================================\n",
      ">Size in FITS blocks: 2\n",
      ">  [CCDYPIXE] : 0.00000000\n",
      ">  [EXTNAME] : extension1\n",
      ">  [PCOUNT] : 0\n",
      ">  [MAXBIAS] : 65535.00000000\n",
      ">  [DASCHAN] : 4\n",
      ">  [WINNO] : 4\n",
      ">  [CRPIX2] : 1.00000000\n",
      ">  [CUNIT1] : pixel\n",
      ">  [CCDTYPE] : EEV42-80\n",
      ">  [CUNIT2] : pixel\n",
      ">  [CD1_1] : 1.00000000\n",
      ">  [CRPIX1] : 1.00000000\n",
      ">  [RTDATSEC] : [668:1623,1642:2648]\n",
      ">  [CRVAL2] : 1642.00000000\n",
      ">  [GAIN] : 2.90000000\n",
      ">  [AMPNAME] : LH\n",
      ">  [BITPIX] : -64\n",
      ">  [CCDXPIXE] : 0.00000000\n",
      ">  [CD2_1] : 0.00000000\n",
      ">  [NAXIS1] : 956\n",
      ">  [CD2_2] : 1.00000000\n",
      ">  [PROJP1] : 1.00000000\n",
      ">  [EXTVER] : 1\n",
      ">  [CHIPNAME] : A5382-1-7\n",
      ">  [PV1_1] : 1.00000000\n",
      ">  [PV1_2] : 0.00000000\n",
      ">  [NAXIS] : 2\n",
      ">  [CRVAL1] : 668.00000000\n",
      ">  [INHERIT] : T\n",
      ">  [] : \n",
      ">  [SATURATE] : 65535.00000000\n",
      ">  [PROJP3] : 0.00000000\n",
      ">  [NAXIS2] : 1007\n",
      ">  [PV2_1] : 1.00000000\n",
      ">  [CCDNAME] : A5382-1-7\n",
      ">  [CD1_2] : 0.00000000\n",
      ">  [XTENSION] : IMAGE\n",
      ">  [CCDCHIP] : A5382-1-7\n",
      ">  [READNOIS] : 5.80000000\n",
      ">  [PV2_2] : 1.00000000\n",
      ">  [GCOUNT] : 1\n",
      ">  [IMAGEID] : 1\n",
      ">===============================================================================\n",
      "\n"
     ]
    }
   ],
   "source": [
    "println!(\"{}\", fits.get_hdu(1).unwrap().get_header());"
   ]
  },
  {
   "cell_type": "markdown",
   "metadata": {},
   "source": [
    "### 1.2 - loading the data as a ndarray"
   ]
  },
  {
   "cell_type": "markdown",
   "metadata": {},
   "source": [
    "In general, the `get_xyz()` methods in rustronomy-fits return references (unless the return type is primitive). To obtain an owned version of the data and header contained within the hdu, we have to use a `remove_hdu()` method to obtain an owned version of the hdu, which we then deconstruct using the `to_parts()` method:"
   ]
  },
  {
   "cell_type": "code",
   "execution_count": 41,
   "metadata": {},
   "outputs": [
    {
     "name": "stdout",
     "output_type": "stream",
     "text": [
      "\n",
      ">=================================<|FITS File|>=================================\n",
      ">Total File size in FITS blocks: 2677\n",
      ">Number of Header-Data-Units: 1\n",
      ">Contents:\n",
      ">-------------------------------------------------------------------------------\n",
      ">  [HDU #0]\n",
      ">  Total HDU size in FITS blocks: 2677\n",
      ">    [Header] - size: 2, #records: 42\n",
      ">    [Data] - (IMAGE) datatype: f64, shape: (956,1007), size: 2675\n",
      ">===============================================================================\n",
      "\n",
      "\n"
     ]
    }
   ],
   "source": [
    "let (header, data) = fits.remove_hdu(1).unwrap().to_parts();\n",
    "println!(\"{fits}\"); //note that hdu #1 is missing!"
   ]
  },
  {
   "cell_type": "markdown",
   "metadata": {},
   "source": [
    "Our next task is to convert the data that we received to something usefull. FITS files can contain various data containers, such as Images and Tables. These are represented in rsf with the `Extension` enum. `data` is one of the variants of this extension enum. In our case, we know that we have a FITS Image, which is represented as the `Image` variant. \n",
    "\n",
    "The actual image is contained within the enum variant. We can turn it into a ndarray by calling the `as_owned_..._array` method where we replace ... with the datatype of the image, in our case: f64:"
   ]
  },
  {
   "cell_type": "code",
   "execution_count": 42,
   "metadata": {},
   "outputs": [
    {
     "name": "stderr",
     "output_type": "stream",
     "text": [
      "thread '<unnamed>' panicked at 'called `Option::unwrap()` on a `None` value', src/lib.rs:131:24\n",
      "stack backtrace:\n",
      "   0: rust_begin_unwind\n",
      "             at /rustc/9d1b2106e23b1abd32fce1f17267604a5102f57a/library/std/src/panicking.rs:498:5\n",
      "   1: core::panicking::panic_fmt\n",
      "             at /rustc/9d1b2106e23b1abd32fce1f17267604a5102f57a/library/core/src/panicking.rs:116:14\n",
      "   2: core::panicking::panic\n",
      "             at /rustc/9d1b2106e23b1abd32fce1f17267604a5102f57a/library/core/src/panicking.rs:48:5\n",
      "   3: run_user_code_30\n",
      "   4: evcxr::runtime::Runtime::run_loop\n",
      "   5: evcxr::runtime::runtime_hook\n",
      "   6: evcxr_jupyter::main\n",
      "note: Some details are omitted, run with `RUST_BACKTRACE=full` for a verbose backtrace.\n",
      "Segmentation fault.\n",
      "   0: evcxr::runtime::Runtime::install_crash_handlers::segfault_handler\n",
      "   1: <unknown>\n",
      "   2: mi_free\n",
      "   3: alloc::alloc::dealloc\n",
      "             at /rustc/db9d1b20bba1968c1ec1fc49616d4742c1725b4b/library/alloc/src/alloc.rs:105:14\n",
      "      <alloc::alloc::Global as core::alloc::Allocator>::deallocate\n",
      "             at /rustc/db9d1b20bba1968c1ec1fc49616d4742c1725b4b/library/alloc/src/alloc.rs:242:22\n",
      "      alloc::alloc::box_free\n",
      "             at /rustc/db9d1b20bba1968c1ec1fc49616d4742c1725b4b/library/alloc/src/alloc.rs:336:9\n",
      "      core::ptr::drop_in_place<alloc::boxed::Box<dyn core::any::Any+core::marker::Send>>\n",
      "             at /rustc/db9d1b20bba1968c1ec1fc49616d4742c1725b4b/library/core/src/ptr/mod.rs:188:1\n",
      "      core::ptr::drop_in_place<core::result::Result<i32,alloc::boxed::Box<dyn core::any::Any+core::marker::Send>>>\n",
      "             at /rustc/db9d1b20bba1968c1ec1fc49616d4742c1725b4b/library/core/src/ptr/mod.rs:188:1\n",
      "      core::result::Result<T,E>::unwrap_or\n",
      "             at /rustc/db9d1b20bba1968c1ec1fc49616d4742c1725b4b/library/core/src/result.rs:1063:5\n",
      "      std::rt::lang_start_internal::{{closure}}\n",
      "             at /rustc/db9d1b20bba1968c1ec1fc49616d4742c1725b4b/library/std/src/rt.rs:128:48\n",
      "      std::panicking::try::do_call\n",
      "             at /rustc/db9d1b20bba1968c1ec1fc49616d4742c1725b4b/library/std/src/panicking.rs:406:40\n",
      "      std::panicking::try\n",
      "             at /rustc/db9d1b20bba1968c1ec1fc49616d4742c1725b4b/library/std/src/panicking.rs:370:19\n",
      "      std::panic::catch_unwind\n",
      "             at /rustc/db9d1b20bba1968c1ec1fc49616d4742c1725b4b/library/std/src/panic.rs:133:14\n",
      "      std::rt::lang_start_internal\n",
      "             at /rustc/db9d1b20bba1968c1ec1fc49616d4742c1725b4b/library/std/src/rt.rs:128:20\n",
      "   4: main\n",
      "   5: __libc_start_call_main\n",
      "   6: __libc_start_main_alias_1\n",
      "   7: _start\n",
      "\n"
     ]
    },
    {
     "ename": "Error",
     "evalue": "Child process terminated with status: signal: 6 (core dumped)",
     "output_type": "error",
     "traceback": [
      "Child process terminated with status: signal: 6 (core dumped)"
     ]
    }
   ],
   "source": [
    "let array = match data.unwrap() {\n",
    "    rsf::extensions::Extension::Image(img) => img.as_owned_f64_array()?,\n",
    "    _ => panic!()\n",
    "};\n",
    "print!(\"array\");"
   ]
  },
  {
   "cell_type": "code",
   "execution_count": null,
   "metadata": {},
   "outputs": [],
   "source": []
  }
 ],
 "metadata": {
  "kernelspec": {
   "display_name": "Rust",
   "language": "rust",
   "name": "rust"
  },
  "language_info": {
   "codemirror_mode": "rust",
   "file_extension": ".rs",
   "mimetype": "text/rust",
   "name": "Rust",
   "pygment_lexer": "rust",
   "version": ""
  },
  "orig_nbformat": 4
 },
 "nbformat": 4,
 "nbformat_minor": 2
}
