{
 "cells": [
  {
   "cell_type": "markdown",
   "metadata": {},
   "source": [
    "![rustronomy_dark_banner](https://github.com/smups/rustronomy/blob/main/logos/Rustronomy-fits_github_banner_dark.png?raw=true#gh-light-mode-only)\n",
    "# Example 1 - reading a FITS file"
   ]
  },
  {
   "cell_type": "markdown",
   "metadata": {},
   "source": [
    "Let's start by importing some dependancies:"
   ]
  },
  {
   "cell_type": "code",
   "execution_count": 2,
   "metadata": {},
   "outputs": [],
   "source": [
    ":dep rustronomy-fits = {git = \"https://github.com/smups/rustronomy\"}\n",
    ":dep ndarray = {ndarray = 0.15, features = [\"blas\", \"approx\", \"std\"]}\n",
    ":dep dirs = {dirs = 4}"
   ]
  },
  {
   "cell_type": "code",
   "execution_count": 12,
   "metadata": {},
   "outputs": [],
   "source": [
    "use rustronomy_fits as rsf;\n",
    "use ndarray as nd;\n",
    "use dirs;"
   ]
  },
  {
   "cell_type": "markdown",
   "metadata": {},
   "source": [
    "### 1.1 - displaying the structure of a FITS file\n",
    "When using Rustronomy-fits, it's often important to know what kind of data the FITS file contains _before_ you try to access any of the data contained within. This has to do with Rust being statically typed: you cant just ask for \"data contained within HDU0\" without knowing the type of the data.\n",
    "\n",
    "Luckily, we can simply print the structure of a FITS file.\n",
    "\n",
    "_Note: in this example we are using an image taken by the Hubble Space Telescope.\n",
    "The required file is provided in the resources folder on github_"
   ]
  },
  {
   "cell_type": "code",
   "execution_count": 13,
   "metadata": {},
   "outputs": [
    {
     "name": "stdout",
     "output_type": "stream",
     "text": [
      "\n",
      ">=================================<|FITS File|>=================================\n",
      ">Total File size in FITS blocks: 416\n",
      ">Number of Header-Data-Units: 6\n",
      ">Contents:\n",
      ">-------------------------------------------------------------------------------\n",
      ">  [HDU #0]\n",
      ">  Total HDU size in FITS blocks: 7\n",
      ">    [Header] - size: 7, #records: 167\n",
      ">    [Data] - (NO_DATA)\n",
      ">-------------------------------------------------------------------------------\n",
      ">  [HDU #1]\n",
      ">  Total HDU size in FITS blocks: 103\n",
      ">    [Header] - size: 4, #records: 80\n",
      ">    [Data] - (IMAGE) datatype: f32, shape: (270,263), size: 99\n",
      ">-------------------------------------------------------------------------------\n",
      ">  [HDU #2]\n",
      ">  Total HDU size in FITS blocks: 101\n",
      ">    [Header] - size: 2, #records: 35\n",
      ">    [Data] - (IMAGE) datatype: f32, shape: (270,263), size: 99\n",
      ">-------------------------------------------------------------------------------\n",
      ">  [HDU #3]\n",
      ">  Total HDU size in FITS blocks: 52\n",
      ">    [Header] - size: 2, #records: 35\n",
      ">    [Data] - (IMAGE) datatype: i16, shape: (270,263), size: 50\n",
      ">-------------------------------------------------------------------------------\n",
      ">  [HDU #4]\n",
      ">  Total HDU size in FITS blocks: 52\n",
      ">    [Header] - size: 2, #records: 35\n",
      ">    [Data] - (IMAGE) datatype: i16, shape: (270,263), size: 50\n",
      ">-------------------------------------------------------------------------------\n",
      ">  [HDU #5]\n",
      ">  Total HDU size in FITS blocks: 101\n",
      ">    [Header] - size: 2, #records: 35\n",
      ">    [Data] - (IMAGE) datatype: f32, shape: (270,263), size: 99\n",
      ">===============================================================================\n",
      "\n",
      "\n"
     ]
    }
   ],
   "source": [
    "use std::fs;\n",
    "use std::path;\n",
    "\n",
    "//We'll be using one of the FITS files from the tests folder\n",
    "let mut path = dirs::home_dir().unwrap();\n",
    "path.push(\"Desktop/code/rustronomy/rustronomy/rustronomy-fits/resources/Hubble_NICMOS.fits\");\n",
    "\n",
    "//open and print the file (we need the mut later on)\n",
    "let mut fits = rsf::Fits::open(&path)?;\n",
    "println!(\"{fits}\");"
   ]
  },
  {
   "cell_type": "markdown",
   "metadata": {},
   "source": [
    "from the print-out we can see that we have a `f32` Image in header-data-unit #2.\n",
    "We can get more information about the Image by printing its header:"
   ]
  },
  {
   "cell_type": "code",
   "execution_count": 14,
   "metadata": {},
   "outputs": [
    {
     "name": "stdout",
     "output_type": "stream",
     "text": [
      ">================================<|FITS Header|>================================\n",
      ">Size in FITS blocks: 2\n",
      ">  [INHERIT] - T //inherit the primary header\n",
      ">  [CTYPE2] - DEC--TAN //the coordinate type for the second axis\n",
      ">  [STDCFFF] - F / ST DDF fill present (T/F)\n",
      ">  [CRVAL1] - 1.826361425552E+02 //first axis value at reference pixel\n",
      ">  [ORIGIN] - NOAO-IRAF FITS Image Kernel December 2001 //FITS file originator\n",
      ">  [EXTNAME] - ERR //Extension name\n",
      ">  [CD2_1] - -2.09168E-05 //partial of second axis coordinate w.r.t. x\n",
      ">  [CTYPE1] - RA---TAN //the coordinate type for the first axis\n",
      ">  [CD1_2] - -2.07292E-05 //partial of first axis coordinate w.r.t. y\n",
      ">  [ERRCNT] - 0 //number of segments containing errors\n",
      ">  [CRPIX2] - 1.3200000E+02 //y-coordinate of reference pixel\n",
      ">  [CD1_1] - 2.86146E-06 //partial of first axis coordinate w.r.t. x\n",
      ">  [STDCFFP] - x5569 //ST DDF fill pattern (hex)\n",
      ">  [EXTVER] - 1 //Extension version\n",
      ">  [ROOTNAME] - N4HK12010\n",
      ">  [EXPNAME] - N4HK12010 //exposure identifier\n",
      ">  [NAXIS] - 2 //Number of axes\n",
      ">  [DATAMAX] - 5.588638E0 //Maximum data value\n",
      ">  [CD2_2] - -2.83578E-06 //partial of second axis coordinate w.r.t. y\n",
      ">  [FILLCNT] - 0 //number of segments containing fill\n",
      ">  [DATAMIN] - 0.000000E0 //Minimum data value\n",
      ">  [NAXIS1] - 270 //Axis length\n",
      ">  [PCOUNT] - 0 //No 'random' parameters\n",
      ">\n",
      ">  [BUNIT] - 'COUNTS/S'           / brightness units\n",
      ">  [XTENSION] - IMAGE //Image extension\n",
      ">  [CRPIX1] - 1.3550000E+02 //x-coordinate of reference pixel\n",
      ">  [DATE] - 2004-01-09T03:27:48 //Date FITS file was generated\n",
      ">  [BITPIX] - -32 //Bits per pixel\n",
      ">  [NAXIS2] - 263 //Axis length\n",
      ">  [GCOUNT] - 1 //Only one group\n",
      ">  [IRAF-TLM] - '03:27:48 (09/01/2004)' / Time of last modification\n",
      ">  [WCSAXES] - 2 //number of World Coordinate System axes\n",
      ">  [CRVAL2] - 3.940589479746E+01 //second axis value at reference pixel\n",
      ">  [PODPSFF] - F / podps fill present (T/F)\n",
      ">===============================================================================\n",
      "\n"
     ]
    }
   ],
   "source": [
    "println!(\"{}\", fits.get_hdu(2).unwrap().get_header());"
   ]
  },
  {
   "cell_type": "markdown",
   "metadata": {},
   "source": [
    "### 1.2 - loading the data as a ndarray"
   ]
  },
  {
   "cell_type": "markdown",
   "metadata": {},
   "source": [
    "In general, the `get_xyz()` methods in rustronomy-fits return references (unless the return type is primitive). To obtain an owned version of the data and header contained within the hdu, we have to use a `remove_hdu()` method to obtain an owned version of the hdu, which we then deconstruct using the `to_parts()` method:"
   ]
  },
  {
   "cell_type": "code",
   "execution_count": 15,
   "metadata": {},
   "outputs": [],
   "source": [
    "let (header, data) = fits.remove_hdu(2).unwrap().to_parts();"
   ]
  },
  {
   "cell_type": "markdown",
   "metadata": {},
   "source": [
    "Our next task is to convert the data that we received to something usefull. FITS files can contain various data containers, such as Images and Tables. These are represented in rsf with the `Extension` enum. `data` is one of the variants of this extension enum. In our case, we know that we have a FITS Image, which is represented as the `Image` variant. \n",
    "\n",
    "The actual image is contained within the enum variant. We can turn it into a ndarray by calling the `as_owned_..._array` method where we replace ... with the datatype of the image, in our case: `f32`:"
   ]
  },
  {
   "cell_type": "code",
   "execution_count": 16,
   "metadata": {},
   "outputs": [
    {
     "name": "stdout",
     "output_type": "stream",
     "text": [
      "[[0, 0, 0, 0, 0, ..., 0.14516334, 0.1677333, 0.1519012, 0.17424014, 0.18138014],\n",
      " [0, 0, 0, 0, 0, ..., 0.14382742, 0.13788727, 0.14309902, 0.18218201, 0.1548093],\n",
      " [0, 0.25458828, 0.19007798, 0.19276433, 0.16891634, ..., 0.15199432, 0.14267182, 0.13510334, 0.140643, 0.1438491],\n",
      " [0.23901846, 0.24790978, 0.17884323, 0.19360472, 0.17666389, ..., 0.14283721, 0.15122496, 0.14378895, 0.1394441, 0.16420925],\n",
      " [0.22904848, 0.22937974, 0.24271114, 0.16900842, 0.15040079, ..., 0.1495607, 0.14531259, 0.14317311, 0.15108435, 0.16691282],\n",
      " ...,\n",
      " [0, 0.24676378, 0.23727417, 0.23779844, 0.2573741, ..., 0.21935812, 0.21897647, 0.26512703, 0.24180707, 0.25430027],\n",
      " [0, 0.22375634, 0.23354273, 0.2748666, 0.20880164, ..., 0.23301119, 0.23804893, 0.23298545, 0.23288651, 0.21402515],\n",
      " [0, 0.274768, 0.24180919, 0.25705317, 0.19924851, ..., 0.24541865, 0.25179303, 0.24744774, 0.24135269, 0.27544743],\n",
      " [0, 0.2952811, 0.26060498, 0.27895373, 0.22497027, ..., 0.20358875, 0.22370559, 0.22956917, 0.2574325, 0.2690801],\n",
      " [0, 0.22548261, 0.26607138, 0.24443027, 0.23536849, ..., 0.20064896, 0.24065147, 0.26388854, 0.2867701, 0.27318406]]\n"
     ]
    }
   ],
   "source": [
    "let array = match data.unwrap() {\n",
    "    rsf::Extension::Image(img) => img.as_owned_f32_array()?,\n",
    "    _ => panic!()\n",
    "};\n",
    "println!(\"{array}\");"
   ]
  }
 ],
 "metadata": {
  "kernelspec": {
   "display_name": "Rust",
   "language": "rust",
   "name": "rust"
  },
  "language_info": {
   "codemirror_mode": "rust",
   "file_extension": ".rs",
   "mimetype": "text/rust",
   "name": "Rust",
   "pygment_lexer": "rust",
   "version": ""
  },
  "orig_nbformat": 4
 },
 "nbformat": 4,
 "nbformat_minor": 2
}
