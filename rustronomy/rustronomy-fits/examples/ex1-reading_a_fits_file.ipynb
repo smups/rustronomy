{
 "cells": [
  {
   "cell_type": "markdown",
   "metadata": {},
   "source": [
    "![rustronomy_dark_banner](https://github.com/smups/rustronomy/blob/main/logos/Rustronomy-fits_github_banner_dark.png?raw=true#gh-light-mode-only)\n",
    "# Example 1 - reading a FITS file"
   ]
  },
  {
   "cell_type": "markdown",
   "metadata": {},
   "source": [
    "Let's start by importing some dependancies:"
   ]
  },
  {
   "cell_type": "code",
   "execution_count": 2,
   "metadata": {},
   "outputs": [],
   "source": [
    ":dep rustronomy-fits = {git = \"https://github.com/smups/rustronomy\"}\n",
    ":dep ndarray = {ndarray = 0.15, features = [\"blas\", \"approx\", \"std\"]}\n",
    ":dep dirs = {dirs = 4}"
   ]
  },
  {
   "cell_type": "code",
   "execution_count": 3,
   "metadata": {},
   "outputs": [],
   "source": [
    "use rustronomy_fits as rsf;\n",
    "use ndarray as nd;\n",
    "use dirs;"
   ]
  },
  {
   "cell_type": "markdown",
   "metadata": {},
   "source": [
    "### 1.1 - displaying the structure of a FITS file\n",
    "When using Rustronomy-fits, it's often important to know what kind of data the FITS file contains _before_ you try to access any of the data contained within. This has to do with Rust being statically typed: you cant just ask for \"data contained within HDU0\" without knowing the type of the data.\n",
    "\n",
    "Luckily, we can simply print the structure of a FITS file.\n",
    "\n",
    "_Note: in this example we are using the example FITS file provided in the example folder on github_"
   ]
  },
  {
   "cell_type": "code",
   "execution_count": 4,
   "metadata": {},
   "outputs": [
    {
     "name": "stdout",
     "output_type": "stream",
     "text": [
      "\n",
      ">=================================<|FITS File|>=================================\n",
      ">Total File size in FITS blocks: 2678\n",
      ">Number of Header-Data-Units: 2\n",
      ">Contents:\n",
      ">-------------------------------------------------------------------------------\n",
      ">  [HDU #0]\n",
      ">  Total HDU size in FITS blocks: 1\n",
      ">    [Header] - size: 1, #records: 4\n",
      ">    [Data] - (NO_DATA)\n",
      ">-------------------------------------------------------------------------------\n",
      ">  [HDU #1]\n",
      ">  Total HDU size in FITS blocks: 2677\n",
      ">    [Header] - size: 2, #records: 42\n",
      ">    [Data] - (IMAGE) datatype: f64, shape: (956,1007), size: 2675\n",
      ">===============================================================================\n",
      "\n",
      "\n"
     ]
    }
   ],
   "source": [
    "use std::fs;\n",
    "use std::path;\n",
    "\n",
    "//We'll be using one of the FITS files from the tests folder\n",
    "let mut path = dirs::home_dir().unwrap();\n",
    "path.push(\"Desktop/code/rustronomy/rustronomy/rustronomy-fits/resources/tests/real_assortment/master_science0.fits\");\n",
    "\n",
    "//open and print the file (we need the mut later on)\n",
    "let mut fits = rsf::Fits::open(&path)?;\n",
    "println!(\"{fits}\");"
   ]
  },
  {
   "cell_type": "markdown",
   "metadata": {},
   "source": [
    "from the print-out we can see that we have a `f64` Image in the second header-data-unit. We can get more information about the Image by printing its header:"
   ]
  },
  {
   "cell_type": "code",
   "execution_count": 5,
   "metadata": {},
   "outputs": [
    {
     "name": "stdout",
     "output_type": "stream",
     "text": [
      ">================================<|FITS Header|>================================\n",
      ">Size in FITS blocks: 2\n",
      ">  [CRVAL1] : 668.00000000 //Reference value on 1st axis in primary WCS\n",
      ">  [BITPIX] : -64 //\n",
      ">  [CCDNAME] : A5382-1-7 //Name of detector chip.\n",
      ">  [CD2_2] : 1.00000000 //Transformation matrix for primary WCS\n",
      ">  [PCOUNT] : 0 //Number of pixels following data\n",
      ">  [DASCHAN] : 4 //Number of readout channel\n",
      ">  [READNOIS] : 5.80000000 //Nominal Readout noise in electrons.\n",
      ">  [INHERIT] : T //Extension inherits primary HDU.\n",
      ">  [CCDCHIP] : A5382-1-7 //Name of detector chip.\n",
      ">  [SATURATE] : 65535.00000000 //Highest value that is unsaturated\n",
      ">  [PV2_2] : 1.00000000 //Projection coefficient for primary WCS\n",
      ">  [CCDYPIXE] : 0.00000000 //[m] Size of pixels in y.\n",
      ">  [GAIN] : 2.90000000 //Nominal Photo-electrons per ADU.\n",
      ">  [NAXIS2] : 1007 //\n",
      ">  [NAXIS] : 2 //\n",
      ">  [WINNO] : 4 //Number of readout window\n",
      ">  [CRVAL2] : 1642.00000000 //Reference value on 2nd axis in primary WCS\n",
      ">  [EXTNAME] : extension1 //Extension name\n",
      ">  [PV1_1] : 1.00000000 //Projection coefficient for primary WCS\n",
      ">  [] :  //\n",
      ">  [GCOUNT] : 1 //Number of groups\n",
      ">  [CCDTYPE] : EEV42-80 //Type of detector chip.\n",
      ">  [IMAGEID] : 1 //Image identification\n",
      ">  [AMPNAME] : LH //Name of output amplifier.\n",
      ">  [CHIPNAME] : A5382-1-7 //Name of detector chip.\n",
      ">  [PROJP1] : 1.00000000 //Projection coefficient for primary WCS\n",
      ">  [PV2_1] : 1.00000000 //Projection coefficient for primary WCS\n",
      ">  [CUNIT1] : pixel //Units of  1st axis in primary WCS\n",
      ">  [PROJP3] : 0.00000000 //Projection coefficient for primary WCS\n",
      ">  [PV1_2] : 0.00000000 //Projection coefficient for primary WCS\n",
      ">  [CD1_1] : 1.00000000 //Transformation matrix for primary WCS\n",
      ">  [CRPIX2] : 1.00000000 //Reference pixel on 2nd axis in primary WCS\n",
      ">  [CRPIX1] : 1.00000000 //Reference pixel on 1st axis in primary WCS\n",
      ">  [EXTVER] : 1 //Extension version number\n",
      ">  [CD1_2] : 0.00000000 //Transformation matrix for primary WCS\n",
      ">  [XTENSION] : IMAGE //\n",
      ">  [MAXBIAS] : 65535.00000000 //Maximum expected bias level\n",
      ">  [RTDATSEC] : [668:1623,1642:2648] //Location in d-space for RTD.\n",
      ">  [CUNIT2] : pixel //Units of  2nd axis in primary WCS\n",
      ">  [CD2_1] : 0.00000000 //Transformation matrix for primary WCS\n",
      ">  [CCDXPIXE] : 0.00000000 //[m] Size of pixels in x.\n",
      ">  [NAXIS1] : 956 //\n",
      ">===============================================================================\n",
      "\n"
     ]
    }
   ],
   "source": [
    "println!(\"{}\", fits.get_hdu(1).unwrap().get_header());"
   ]
  },
  {
   "cell_type": "markdown",
   "metadata": {},
   "source": [
    "### 1.2 - loading the data as a ndarray"
   ]
  },
  {
   "cell_type": "markdown",
   "metadata": {},
   "source": [
    "In general, the `get_xyz()` methods in rustronomy-fits return references (unless the return type is primitive). To obtain an owned version of the data and header contained within the hdu, we have to use a `remove_hdu()` method to obtain an owned version of the hdu, which we then deconstruct using the `to_parts()` method:"
   ]
  },
  {
   "cell_type": "code",
   "execution_count": 6,
   "metadata": {},
   "outputs": [
    {
     "name": "stdout",
     "output_type": "stream",
     "text": [
      "\n",
      ">=================================<|FITS File|>=================================\n",
      ">Total File size in FITS blocks: 1\n",
      ">Number of Header-Data-Units: 1\n",
      ">Contents:\n",
      ">-------------------------------------------------------------------------------\n",
      ">  [HDU #0]\n",
      ">  Total HDU size in FITS blocks: 1\n",
      ">    [Header] - size: 1, #records: 4\n",
      ">    [Data] - (NO_DATA)\n",
      ">===============================================================================\n",
      "\n",
      "\n"
     ]
    }
   ],
   "source": [
    "let (header, data) = fits.remove_hdu(1).unwrap().to_parts();\n",
    "println!(\"{fits}\"); //note that hdu #1 is missing!"
   ]
  },
  {
   "cell_type": "markdown",
   "metadata": {},
   "source": [
    "Our next task is to convert the data that we received to something usefull. FITS files can contain various data containers, such as Images and Tables. These are represented in rsf with the `Extension` enum. `data` is one of the variants of this extension enum. In our case, we know that we have a FITS Image, which is represented as the `Image` variant. \n",
    "\n",
    "The actual image is contained within the enum variant. We can turn it into a ndarray by calling the `as_owned_..._array` method where we replace ... with the datatype of the image, in our case: f64:"
   ]
  },
  {
   "cell_type": "code",
   "execution_count": 7,
   "metadata": {},
   "outputs": [
    {
     "name": "stdout",
     "output_type": "stream",
     "text": [
      "[[1422.7801659179809, 1399.816122322237, 1338.7904151430416, 1408.4804134009175, 1366.8482227571476, ..., 1358.3960997166196, 1352.7671125409004, 1340.294613536379, 1349.777574789123, 1398.2811824258586],\n",
      " [1378.4421510448844, 1360.8390147613043, 1406.6388090478217, 1361.0390411373935, 1358.2108106679993, ..., 1390.0750628492162, 1339.3917192221113, 1344.7475183299823, 1425.7183909398113, 1338.4564511564847],\n",
      " [1373.1366001971037, 1370.5883535269681, 1338.0797209894872, 1402.467127919193, 1368.0761952872153, ..., 1378.722279552521, 1346.6757815067479, 1376.1458382143492, 1367.7188887359011, 1396.748142561798],\n",
      " [1378.656539983296, 1361.3283115425008, 1384.0243696509249, 1323.9161909886272, 1352.965946696271, ..., 1343.4366834421842, 1373.372527628058, 1368.435232332786, 1409.1756516805374, 1358.8479562777227],\n",
      " [1312.5626618547906, 1325.8930440683264, 1401.9297771777542, 1427.8927905490139, 1368.9676818720338, ..., 1347.4136319295308, 1383.814735960337, 1418.686204058713, 1359.0595929978565, 1351.273954615913],\n",
      " ...,\n",
      " [1409.8158994205537, 1379.4717116763345, 1336.1947019551899, 1385.5413122619448, 1402.44701427783, ..., 1368.8576936527095, 1382.6681038438426, 1362.3249392987286, 1390.3625220976953, 1360.3990540330674],\n",
      " [1392.3974607902999, 1393.198051780791, 1385.602872175828, 1401.2421318170984, 1407.951789728745, ..., 1430.029696432952, 1420.806555893769, 1363.779319518935, 1382.7877846304132, 1403.4163720731265],\n",
      " [1405.43134983686, 1424.8540189843204, 1323.1292911073654, 1396.1305144621265, 1302.1783448864144, ..., 1375.3482502646398, 1374.4234161505835, 1381.1218646613702, 1404.8905569271262, 1355.413427904615],\n",
      " [1393.3715849059545, 1387.851923835969, 1366.1453233518262, 1377.7610028168783, 1399.835651573044, ..., 1389.0736178987388, 1384.1312191515817, 1396.9347394508015, 1354.9418391653153, 1354.8723950773517],\n",
      " [1339.9511313479616, 1392.3042875600454, 1337.1400907286466, 1431.4846761295173, 1381.0993015542517, ..., 1377.0438753569972, 1411.6077990517654, 1389.1330903393477, 1385.7060764835862, 1389.032159743393]]\n"
     ]
    }
   ],
   "source": [
    "let array = match data.unwrap() {\n",
    "    rsf::Extension::Image(img) => img.as_owned_f64_array()?,\n",
    "    _ => panic!()\n",
    "};\n",
    "println!(\"{array}\");"
   ]
  }
 ],
 "metadata": {
  "kernelspec": {
   "display_name": "Rust",
   "language": "rust",
   "name": "rust"
  },
  "language_info": {
   "codemirror_mode": "rust",
   "file_extension": ".rs",
   "mimetype": "text/rust",
   "name": "Rust",
   "pygment_lexer": "rust",
   "version": ""
  },
  "orig_nbformat": 4
 },
 "nbformat": 4,
 "nbformat_minor": 2
}
